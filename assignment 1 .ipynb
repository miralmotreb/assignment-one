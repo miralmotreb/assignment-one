{
 "cells":[
  {
   "cell_type":"markdown",
   "source":[
    "Miral, Nour Badr, Malak Rakhawy\n",
    "# Assignment 1 "
   ],
   "attachments":{
    
   },
   "metadata":{
    "datalore":{
     "type":"MD",
     "hide_input_from_viewers":false,
     "hide_output_from_viewers":false
    }
   }
  },
  {
   "cell_type":"markdown",
   "source":[
    "## **Data description:**\n",
    "The data set that we will analyze is called “Hitters”, and was found on the website http:\/\/jse.amstat.org\/jse_data_archive.htm.  The data consists of 47 variables, and 6318 observations, and records baseball hitters who were drafted in the major leagues from 1992-2006. We used a subset of these 47 variables to assess them more clearly. We used 12 variables overall. The 5 variables: Total Games Played in Minor League, Total games played in double A and lower, Total Games Played in Triple-A and lower, Seasons Played in Minor League, and Total Plate Appearances in Minor League are continuous. The discrete variables consist of logical, categorical, and character variables. There are 2 logical variables: Throw and If They Appeared in Minor League, and they originally had outputs: Left\/Right, and Yes\/No, respectively. The 3 variables Position, Minor League Level Started at and Education Type are both categorical, with 6, 7 and 3 levels, respectively. Lastly, the 3 character variables were School, Organization, and Name. We will analyze the frequency of some variables as well as statistical summaries and correlations between them."
   ],
   "attachments":{
    
   },
   "metadata":{
    "datalore":{
     "type":"MD",
     "hide_input_from_viewers":false,
     "hide_output_from_viewers":false
    }
   }
  },
  {
   "cell_type":"markdown",
   "source":[
    "## **Introduction**:\n"
   ],
   "attachments":{
    
   },
   "metadata":{
    "datalore":{
     "type":"MD",
     "hide_input_from_viewers":false,
     "hide_output_from_viewers":false
    }
   }
  },
  {
   "cell_type":"code",
   "source":[
    "import pandas as pd"
   ],
   "execution_count":4,
   "outputs":[
    
   ],
   "metadata":{
    "datalore":{
     "type":"CODE",
     "hide_input_from_viewers":false,
     "hide_output_from_viewers":false
    }
   }
  },
  {
   "cell_type":"code",
   "source":[
    "df=pd.read_csv(\"data.csv\")"
   ],
   "execution_count":5,
   "outputs":[
    
   ],
   "metadata":{
    "datalore":{
     "type":"CODE",
     "hide_input_from_viewers":false,
     "hide_output_from_viewers":false
    }
   }
  },
  {
   "cell_type":"code",
   "source":[
    "df"
   ],
   "execution_count":6,
   "outputs":[
    {
     "data":{
      "text\/html":[
       "<div>\n",
       "<style scoped>\n",
       "    .dataframe tbody tr th:only-of-type {\n",
       "        vertical-align: middle;\n",
       "    }\n",
       "\n",
       "    .dataframe tbody tr th {\n",
       "        vertical-align: top;\n",
       "    }\n",
       "\n",
       "    .dataframe thead th {\n",
       "        text-align: right;\n",
       "    }\n",
       "<\/style>\n",
       "<table border=\"1\" class=\"dataframe\">\n",
       "  <thead>\n",
       "    <tr style=\"text-align: right;\">\n",
       "      <th><\/th>\n",
       "      <th>Year when drafted<\/th>\n",
       "      <th>Round drafted<\/th>\n",
       "      <th>Overall pick<\/th>\n",
       "      <th>Name<\/th>\n",
       "      <th>Position<\/th>\n",
       "      <th>Organization<\/th>\n",
       "      <th>school<\/th>\n",
       "      <th>age when drafted<\/th>\n",
       "      <th>Birth date<\/th>\n",
       "      <th>Bats<\/th>\n",
       "      <th>...<\/th>\n",
       "      <th>Total plate appearances in Short-Season and lower levels<\/th>\n",
       "      <th>Total games played in Low-A and lower levels<\/th>\n",
       "      <th>Total plate appearances in Low-A and lower levels<\/th>\n",
       "      <th>Total games played in High-A and lower levels<\/th>\n",
       "      <th>Total plate appearances in High-A and lower levels<\/th>\n",
       "      <th>Total games played in Double-A and lower levels\\t<\/th>\n",
       "      <th>Total plate appearances in Double-A and lower levels<\/th>\n",
       "      <th>Total games played in Triple-A and lower levels\\t<\/th>\n",
       "      <th>Total plate appearances in Triple-A and lower levels<\/th>\n",
       "      <th>Average plate appearances per game<\/th>\n",
       "    <\/tr>\n",
       "  <\/thead>\n",
       "  <tbody>\n",
       "    <tr>\n",
       "      <th>0<\/th>\n",
       "      <td>1997<\/td>\n",
       "      <td>16<\/td>\n",
       "      <td>475<\/td>\n",
       "      <td>Alex Steele<\/td>\n",
       "      <td>Outfield<\/td>\n",
       "      <td>Tigers<\/td>\n",
       "      <td>SUNY-Cortland<\/td>\n",
       "      <td>22<\/td>\n",
       "      <td>12\/09\/75<\/td>\n",
       "      <td>Right<\/td>\n",
       "      <td>...<\/td>\n",
       "      <td>294<\/td>\n",
       "      <td>95<\/td>\n",
       "      <td>780<\/td>\n",
       "      <td>200<\/td>\n",
       "      <td>1161<\/td>\n",
       "      <td>200<\/td>\n",
       "      <td>1161<\/td>\n",
       "      <td>200<\/td>\n",
       "      <td>1161<\/td>\n",
       "      <td>5.81<\/td>\n",
       "    <\/tr>\n",
       "    <tr>\n",
       "      <th>1<\/th>\n",
       "      <td>1996<\/td>\n",
       "      <td>5<\/td>\n",
       "      <td>133<\/td>\n",
       "      <td>Philp Kendall<\/td>\n",
       "      <td>Catcher<\/td>\n",
       "      <td>Brewers<\/td>\n",
       "      <td>Jasper HS (IN)<\/td>\n",
       "      <td>19<\/td>\n",
       "      <td>08\/22\/77<\/td>\n",
       "      <td>Right<\/td>\n",
       "      <td>...<\/td>\n",
       "      <td>77<\/td>\n",
       "      <td>43<\/td>\n",
       "      <td>229<\/td>\n",
       "      <td>61<\/td>\n",
       "      <td>332<\/td>\n",
       "      <td>61<\/td>\n",
       "      <td>332<\/td>\n",
       "      <td>61<\/td>\n",
       "      <td>332<\/td>\n",
       "      <td>5.44<\/td>\n",
       "    <\/tr>\n",
       "    <tr>\n",
       "      <th>2<\/th>\n",
       "      <td>1999<\/td>\n",
       "      <td>43<\/td>\n",
       "      <td>1293<\/td>\n",
       "      <td>Nathan Rewers<\/td>\n",
       "      <td>Second Base<\/td>\n",
       "      <td>Reds<\/td>\n",
       "      <td>University of Richmond<\/td>\n",
       "      <td>23<\/td>\n",
       "      <td>11\/30\/76<\/td>\n",
       "      <td>Switch<\/td>\n",
       "      <td>...<\/td>\n",
       "      <td>16<\/td>\n",
       "      <td>3<\/td>\n",
       "      <td>16<\/td>\n",
       "      <td>3<\/td>\n",
       "      <td>16<\/td>\n",
       "      <td>3<\/td>\n",
       "      <td>16<\/td>\n",
       "      <td>3<\/td>\n",
       "      <td>16<\/td>\n",
       "      <td>5.33<\/td>\n",
       "    <\/tr>\n",
       "    <tr>\n",
       "      <th>3<\/th>\n",
       "      <td>2001<\/td>\n",
       "      <td>9<\/td>\n",
       "      <td>267<\/td>\n",
       "      <td>David Mattle<\/td>\n",
       "      <td>Outfield<\/td>\n",
       "      <td>Tigers<\/td>\n",
       "      <td>Kent State University<\/td>\n",
       "      <td>22<\/td>\n",
       "      <td>12\/21\/79<\/td>\n",
       "      <td>Left<\/td>\n",
       "      <td>...<\/td>\n",
       "      <td>159<\/td>\n",
       "      <td>176<\/td>\n",
       "      <td>716<\/td>\n",
       "      <td>279<\/td>\n",
       "      <td>1472<\/td>\n",
       "      <td>279<\/td>\n",
       "      <td>1472<\/td>\n",
       "      <td>279<\/td>\n",
       "      <td>1472<\/td>\n",
       "      <td>5.28<\/td>\n",
       "    <\/tr>\n",
       "    <tr>\n",
       "      <th>4<\/th>\n",
       "      <td>1997<\/td>\n",
       "      <td>1<\/td>\n",
       "      <td>15<\/td>\n",
       "      <td>Jason Dellaero<\/td>\n",
       "      <td>Shortstop<\/td>\n",
       "      <td>White Sox<\/td>\n",
       "      <td>University of South Florida<\/td>\n",
       "      <td>21<\/td>\n",
       "      <td>12\/17\/76<\/td>\n",
       "      <td>Switch<\/td>\n",
       "      <td>...<\/td>\n",
       "      <td>16<\/td>\n",
       "      <td>60<\/td>\n",
       "      <td>224<\/td>\n",
       "      <td>235<\/td>\n",
       "      <td>879<\/td>\n",
       "      <td>316<\/td>\n",
       "      <td>1623<\/td>\n",
       "      <td>316<\/td>\n",
       "      <td>1623<\/td>\n",
       "      <td>5.14<\/td>\n",
       "    <\/tr>\n",
       "    <tr>\n",
       "      <th>...<\/th>\n",
       "      <td>...<\/td>\n",
       "      <td>...<\/td>\n",
       "      <td>...<\/td>\n",
       "      <td>...<\/td>\n",
       "      <td>...<\/td>\n",
       "      <td>...<\/td>\n",
       "      <td>...<\/td>\n",
       "      <td>...<\/td>\n",
       "      <td>...<\/td>\n",
       "      <td>...<\/td>\n",
       "      <td>...<\/td>\n",
       "      <td>...<\/td>\n",
       "      <td>...<\/td>\n",
       "      <td>...<\/td>\n",
       "      <td>...<\/td>\n",
       "      <td>...<\/td>\n",
       "      <td>...<\/td>\n",
       "      <td>...<\/td>\n",
       "      <td>...<\/td>\n",
       "      <td>...<\/td>\n",
       "      <td>...<\/td>\n",
       "    <\/tr>\n",
       "    <tr>\n",
       "      <th>6312<\/th>\n",
       "      <td>1999<\/td>\n",
       "      <td>21<\/td>\n",
       "      <td>651<\/td>\n",
       "      <td>Michael Aldridge<\/td>\n",
       "      <td>Catcher<\/td>\n",
       "      <td>Yankees<\/td>\n",
       "      <td>Eastern Michigan University<\/td>\n",
       "      <td>22<\/td>\n",
       "      <td>03\/17\/77<\/td>\n",
       "      <td>Right<\/td>\n",
       "      <td>...<\/td>\n",
       "      <td>7<\/td>\n",
       "      <td>7<\/td>\n",
       "      <td>7<\/td>\n",
       "      <td>7<\/td>\n",
       "      <td>7<\/td>\n",
       "      <td>7<\/td>\n",
       "      <td>7<\/td>\n",
       "      <td>7<\/td>\n",
       "      <td>7<\/td>\n",
       "      <td>1.00<\/td>\n",
       "    <\/tr>\n",
       "    <tr>\n",
       "      <th>6313<\/th>\n",
       "      <td>2006<\/td>\n",
       "      <td>13<\/td>\n",
       "      <td>390<\/td>\n",
       "      <td>Mikal Garbarino<\/td>\n",
       "      <td>Outfield<\/td>\n",
       "      <td>Blue Jays<\/td>\n",
       "      <td>San Dimas HS, CA<\/td>\n",
       "      <td>18<\/td>\n",
       "      <td>04\/07\/88<\/td>\n",
       "      <td>Switch<\/td>\n",
       "      <td>...<\/td>\n",
       "      <td>1<\/td>\n",
       "      <td>1<\/td>\n",
       "      <td>1<\/td>\n",
       "      <td>1<\/td>\n",
       "      <td>1<\/td>\n",
       "      <td>1<\/td>\n",
       "      <td>1<\/td>\n",
       "      <td>1<\/td>\n",
       "      <td>1<\/td>\n",
       "      <td>1.00<\/td>\n",
       "    <\/tr>\n",
       "    <tr>\n",
       "      <th>6314<\/th>\n",
       "      <td>1996<\/td>\n",
       "      <td>31<\/td>\n",
       "      <td>912<\/td>\n",
       "      <td>Richard Clark<\/td>\n",
       "      <td>Outfield<\/td>\n",
       "      <td>Giants<\/td>\n",
       "      <td>Countryside HS (Clearwater,FL)<\/td>\n",
       "      <td>19<\/td>\n",
       "      <td>11\/01\/77<\/td>\n",
       "      <td>Right<\/td>\n",
       "      <td>...<\/td>\n",
       "      <td>6<\/td>\n",
       "      <td>6<\/td>\n",
       "      <td>6<\/td>\n",
       "      <td>6<\/td>\n",
       "      <td>6<\/td>\n",
       "      <td>6<\/td>\n",
       "      <td>6<\/td>\n",
       "      <td>6<\/td>\n",
       "      <td>6<\/td>\n",
       "      <td>1.00<\/td>\n",
       "    <\/tr>\n",
       "    <tr>\n",
       "      <th>6315<\/th>\n",
       "      <td>2001<\/td>\n",
       "      <td>32<\/td>\n",
       "      <td>956<\/td>\n",
       "      <td>Billy Jacobson<\/td>\n",
       "      <td>Outfield<\/td>\n",
       "      <td>Astros<\/td>\n",
       "      <td>Rice University<\/td>\n",
       "      <td>23<\/td>\n",
       "      <td>12\/16\/78<\/td>\n",
       "      <td>Right<\/td>\n",
       "      <td>...<\/td>\n",
       "      <td>25<\/td>\n",
       "      <td>26<\/td>\n",
       "      <td>25<\/td>\n",
       "      <td>26<\/td>\n",
       "      <td>25<\/td>\n",
       "      <td>26<\/td>\n",
       "      <td>25<\/td>\n",
       "      <td>26<\/td>\n",
       "      <td>25<\/td>\n",
       "      <td>0.96<\/td>\n",
       "    <\/tr>\n",
       "    <tr>\n",
       "      <th>6316<\/th>\n",
       "      <td>1998<\/td>\n",
       "      <td>40<\/td>\n",
       "      <td>1199<\/td>\n",
       "      <td>Michael Baetzel<\/td>\n",
       "      <td>Shortstop<\/td>\n",
       "      <td>White Sox<\/td>\n",
       "      <td>Kishwaukee College<\/td>\n",
       "      <td>19<\/td>\n",
       "      <td>10\/01\/79<\/td>\n",
       "      <td>Switch<\/td>\n",
       "      <td>...<\/td>\n",
       "      <td>13<\/td>\n",
       "      <td>15<\/td>\n",
       "      <td>13<\/td>\n",
       "      <td>15<\/td>\n",
       "      <td>13<\/td>\n",
       "      <td>15<\/td>\n",
       "      <td>13<\/td>\n",
       "      <td>15<\/td>\n",
       "      <td>13<\/td>\n",
       "      <td>0.87<\/td>\n",
       "    <\/tr>\n",
       "  <\/tbody>\n",
       "<\/table>\n",
       "<p>6317 rows × 47 columns<\/p>\n",
       "<\/div>"
      ]
     },
     "metadata":{
      
     },
     "output_type":"display_data"
    }
   ],
   "metadata":{
    "datalore":{
     "type":"CODE",
     "hide_input_from_viewers":false,
     "hide_output_from_viewers":false
    }
   }
  },
  {
   "cell_type":"code",
   "source":[
    "print(df. columns)"
   ],
   "execution_count":273,
   "outputs":[
    {
     "name":"stdout",
     "text":[
      "Index(['Year when drafted', 'Round drafted', 'Overall pick', 'Name',\n",
      "       'Position', 'Organization', 'school', 'age when drafted ', 'Birth date',\n",
      "       'Bats', 'Throws ', 'education type', 'Drafted before',\n",
      "       'Minor-League level started at',\n",
      "       'if the player appeared in rookie leagues',\n",
      "       'Number of games played in Rookie Leagues',\n",
      "       'Number of plate appearances in Rookie Leagues',\n",
      "       'If the player appeared in Short-Season-A',\n",
      "       'Number of games played in Short-Season-A',\n",
      "       'Number of plate appearances in Short-Season-A',\n",
      "       'If the player appeared in Low-A ', 'Number of games played in Low-A ',\n",
      "       'Number of plate appearances in Low-A',\n",
      "       'If the player appeared in High-A', 'Number of games played in High-A',\n",
      "       'Number of plate appearances in High-A',\n",
      "       'If the player appeared in Double-A',\n",
      "       'Number of games played in Double-A',\n",
      "       'Number of plate appearances in Double-A ',\n",
      "       'If the player appeared in Triple-A',\n",
      "       'Number of games played in Triple-A\\t',\n",
      "       'Number of plate appearances in Triple-A ',\n",
      "       'If the player appeared in the Major Leagues',\n",
      "       'Number of seasons spent in the minor leagues    ',\n",
      "       'Total number of games played in the minor leagues',\n",
      "       'Total number of plate appearances in the minor leagues  ',\n",
      "       'Total games played in Short-Season and lower levels',\n",
      "       'Total plate appearances in Short-Season and lower levels',\n",
      "       'Total games played in Low-A and lower levels',\n",
      "       'Total plate appearances in Low-A and lower levels',\n",
      "       'Total games played in High-A and lower levels',\n",
      "       'Total plate appearances in High-A and lower levels',\n",
      "       'Total games played in Double-A and lower levels\\t',\n",
      "       'Total plate appearances in Double-A and lower levels',\n",
      "       'Total games played in Triple-A and lower levels\\t',\n",
      "       'Total plate appearances in Triple-A and lower levels',\n",
      "       'Average plate appearances per game'],\n",
      "      dtype='object')\n"
     ],
     "output_type":"stream"
    }
   ],
   "metadata":{
    "datalore":{
     "type":"CODE",
     "hide_input_from_viewers":false,
     "hide_output_from_viewers":false
    }
   }
  },
  {
   "cell_type":"markdown",
   "source":[
    "## **Frequency graphs for different variables**"
   ],
   "attachments":{
    
   },
   "metadata":{
    "datalore":{
     "type":"MD",
     "hide_input_from_viewers":false,
     "hide_output_from_viewers":false
    }
   }
  },
  {
   "cell_type":"markdown",
   "source":[
    "**Education Type:**"
   ],
   "attachments":{
    
   },
   "metadata":{
    "datalore":{
     "type":"MD",
     "hide_input_from_viewers":false,
     "hide_output_from_viewers":false
    }
   }
  },
  {
   "cell_type":"code",
   "source":[
    "import numpy as np\n",
    "import matplotlib.pyplot as plt\n",
    "import pandas as pd"
   ],
   "execution_count":8,
   "outputs":[
    
   ],
   "metadata":{
    "datalore":{
     "type":"CODE",
     "hide_input_from_viewers":false,
     "hide_output_from_viewers":false
    }
   }
  },
  {
   "cell_type":"code",
   "source":[
    "df['education type'].value_counts()\n"
   ],
   "execution_count":10,
   "outputs":[
    {
     "data":{
      "text\/html":[
       
      ]
     },
     "metadata":{
      
     },
     "output_type":"display_data"
    }
   ],
   "metadata":{
    "datalore":{
     "type":"CODE",
     "hide_input_from_viewers":false,
     "hide_output_from_viewers":false
    }
   }
  },
  {
   "cell_type":"code",
   "source":[
    "4581\/6317"
   ],
   "execution_count":12,
   "outputs":[
    {
     "data":{
      "text\/plain":[
       "0.7251860060155136"
      ]
     },
     "metadata":{
      
     },
     "output_type":"display_data"
    }
   ],
   "metadata":{
    "datalore":{
     "type":"CODE",
     "hide_input_from_viewers":false,
     "hide_output_from_viewers":false
    }
   }
  },
  {
   "cell_type":"code",
   "source":[
    "1697\/6317"
   ],
   "execution_count":13,
   "outputs":[
    {
     "data":{
      "text\/plain":[
       "0.26864017729935097"
      ]
     },
     "metadata":{
      
     },
     "output_type":"display_data"
    }
   ],
   "metadata":{
    "datalore":{
     "type":"CODE",
     "hide_input_from_viewers":false,
     "hide_output_from_viewers":false
    }
   }
  },
  {
   "cell_type":"code",
   "source":[
    "39\/6317"
   ],
   "execution_count":14,
   "outputs":[
    {
     "data":{
      "text\/plain":[
       "0.006173816685135349"
      ]
     },
     "metadata":{
      
     },
     "output_type":"display_data"
    }
   ],
   "metadata":{
    "datalore":{
     "type":"CODE",
     "hide_input_from_viewers":false,
     "hide_output_from_viewers":false
    }
   }
  },
  {
   "cell_type":"code",
   "source":[
    "\n",
    "\n",
    "c= [500,1000,1500,2000,2500,3000,3500,4000,4500]\n",
    "fig= df['education type'].value_counts().plot(kind='bar',color='maroon')\n",
    "fig.set_ylabel('count of players')\n",
    "fig.set_xlabel('Education type')\n",
    "fig.set_yticks(c)\n",
    "\n",
    "plt.title(\"count of hitters and their education levels\")"
   ],
   "execution_count":9,
   "outputs":[
    {
     "data":{
      "text\/plain":[
       "Text(0.5, 1.0, 'count of hitters and their education levels')"
      ],
      "image\/png":"[encoded data removed]"
     },
     "metadata":{
      "image\/png":{
       
      }
     },
     "output_type":"display_data"
    }
   ],
   "metadata":{
    "datalore":{
     "type":"CODE",
     "hide_input_from_viewers":false,
     "hide_output_from_viewers":false
    }
   }
  },
  {
   "cell_type":"markdown",
   "source":[
    "Explanation for the frequency of the variable \"Education type\":\n",
    "\n",
    "From the above codes, it can be clearly seen that as the education level increases, the frequency of the players in that level increases. For instance, around 72.5% of the players have a college education level, 27% have high school education, and only 0.5% have no education. These frequency results were predicted, because most players are drafted through their schools and most teams wait for players to join college before they get drafted. \n",
    "\n",
    "\n"
   ],
   "attachments":{
    
   },
   "metadata":{
    "datalore":{
     "type":"MD",
     "hide_input_from_viewers":false,
     "hide_output_from_viewers":false
    }
   }
  },
  {
   "cell_type":"markdown",
   "source":[
    " **Position**:"
   ],
   "attachments":{
    
   },
   "metadata":{
    "datalore":{
     "type":"MD",
     "hide_input_from_viewers":false,
     "hide_output_from_viewers":false
    }
   }
  },
  {
   "cell_type":"code",
   "source":[
    "import numpy as np\n",
    "import matplotlib.pyplot as plt\n",
    "import pandas as pd"
   ],
   "execution_count":199,
   "outputs":[
    
   ],
   "metadata":{
    "datalore":{
     "type":"CODE",
     "hide_input_from_viewers":false,
     "hide_output_from_viewers":false
    }
   }
  },
  {
   "cell_type":"code",
   "source":[
    "df['Position'].value_counts().plot(kind='barh')\n",
    "plt.title(\"Count of Hitter's Positions\")"
   ],
   "execution_count":200,
   "outputs":[
    {
     "data":{
      "text\/plain":[
       "Text(0.5, 1.0, \"Count of Hitter's Positions\")"
      ],
      "image\/png":"[encoded data removed]"
     },
     "metadata":{
      "image\/png":{
       
      }
     },
     "output_type":"display_data"
    }
   ],
   "metadata":{
    "datalore":{
     "type":"CODE",
     "hide_input_from_viewers":false,
     "hide_output_from_viewers":false
    }
   }
  },
  {
   "cell_type":"markdown",
   "source":[
    "Explanation of the frequency of the variable \"Position\":\n",
    "\n",
    "Outfielders have the highest count, which can indicate that they are the ones who are most likely to be drafted for the major leagues. The outfield position also makes up more of the team, which could by why the count is that high. The least common positions are first, second, and third base, which is because they each have one player each. "
   ],
   "attachments":{
    
   },
   "metadata":{
    "datalore":{
     "type":"MD",
     "hide_input_from_viewers":false,
     "hide_output_from_viewers":false
    }
   }
  },
  {
   "cell_type":"markdown",
   "source":[
    
   ],
   "attachments":{
    
   },
   "metadata":{
    "datalore":{
     "type":"MD",
     "hide_input_from_viewers":false,
     "hide_output_from_viewers":false
    }
   }
  },
  {
   "cell_type":"markdown",
   "source":[
    "**Throws:**"
   ],
   "attachments":{
    
   },
   "metadata":{
    "datalore":{
     "type":"MD",
     "hide_input_from_viewers":false,
     "hide_output_from_viewers":false
    }
   }
  },
  {
   "cell_type":"code",
   "source":[
    "import numpy as np\n",
    "import matplotlib.pyplot as plt"
   ],
   "execution_count":201,
   "outputs":[
    
   ],
   "metadata":{
    "datalore":{
     "type":"CODE",
     "hide_input_from_viewers":false,
     "hide_output_from_viewers":false
    }
   }
  },
  {
   "cell_type":"code",
   "source":[
    "df['Bats'].value_counts().plot(kind='pie')\n",
    "plt.title(\"count of hitters and their Batting type\")"
   ],
   "execution_count":202,
   "outputs":[
    {
     "data":{
      "text\/plain":[
       "Text(0.5, 1.0, 'count of hitters and their Batting type')"
      ],
      "image\/png":"[encoded data removed]"
     },
     "metadata":{
      "image\/png":{
       
      }
     },
     "output_type":"display_data"
    }
   ],
   "metadata":{
    "datalore":{
     "type":"CODE",
     "hide_input_from_viewers":false,
     "hide_output_from_viewers":false
    }
   }
  },
  {
   "cell_type":"markdown",
   "source":[
    "This makes sense since most people in the world are right-handed which means that the percentage of people hitting with their right hand is higher than those from their left hand. in addition, some people are both right-handed and left-handed or have the gift to switch between both hands. this explains the fact that there are players who switch between both in their hitting style. "
   ],
   "attachments":{
    
   },
   "metadata":{
    "datalore":{
     "type":"MD",
     "hide_input_from_viewers":false,
     "hide_output_from_viewers":false
    }
   }
  },
  {
   "cell_type":"markdown",
   "source":[
    "## **Statistical factors for different variables**"
   ],
   "attachments":{
    
   },
   "metadata":{
    "datalore":{
     "type":"MD",
     "hide_input_from_viewers":false,
     "hide_output_from_viewers":false
    }
   }
  },
  {
   "cell_type":"markdown",
   "source":[
    " **Total number of games played in the minor leagues:**"
   ],
   "attachments":{
    
   },
   "metadata":{
    "datalore":{
     "type":"MD",
     "hide_input_from_viewers":false,
     "hide_output_from_viewers":false
    }
   }
  },
  {
   "cell_type":"code",
   "source":[
    "x=df['Total number of games played in the minor leagues']"
   ],
   "execution_count":203,
   "outputs":[
    
   ],
   "metadata":{
    "datalore":{
     "type":"CODE",
     "hide_input_from_viewers":false,
     "hide_output_from_viewers":false
    }
   }
  },
  {
   "cell_type":"code",
   "source":[
    "x.mean()"
   ],
   "execution_count":204,
   "outputs":[
    {
     "data":{
      "text\/plain":[
       "258.96089916099413"
      ]
     },
     "metadata":{
      
     },
     "output_type":"display_data"
    }
   ],
   "metadata":{
    "datalore":{
     "type":"CODE",
     "hide_input_from_viewers":false,
     "hide_output_from_viewers":false
    }
   }
  },
  {
   "cell_type":"code",
   "source":[
    "x.max()-x.min() #range"
   ],
   "execution_count":205,
   "outputs":[
    {
     "data":{
      "text\/plain":[
       "1448"
      ]
     },
     "metadata":{
      
     },
     "output_type":"display_data"
    }
   ],
   "metadata":{
    "datalore":{
     "type":"CODE",
     "hide_input_from_viewers":false,
     "hide_output_from_viewers":false
    }
   }
  },
  {
   "cell_type":"code",
   "source":[
    "q= np.array([0,0.25,0.5,0.75,1])\n",
    "q\n",
    "np.quantile(x,q)  #Min\/25%\/50%\/75%\/Max"
   ],
   "execution_count":206,
   "outputs":[
    {
     "data":{
      "text\/html":[
       
      ]
     },
     "metadata":{
      
     },
     "output_type":"display_data"
    }
   ],
   "metadata":{
    "datalore":{
     "type":"CODE",
     "hide_input_from_viewers":false,
     "hide_output_from_viewers":false
    }
   }
  },
  {
   "cell_type":"code",
   "source":[
    "x.std() #Standard deviation"
   ],
   "execution_count":207,
   "outputs":[
    {
     "data":{
      "text\/plain":[
       "222.6104799830968"
      ]
     },
     "metadata":{
      
     },
     "output_type":"display_data"
    }
   ],
   "metadata":{
    "datalore":{
     "type":"CODE",
     "hide_input_from_viewers":false,
     "hide_output_from_viewers":false
    }
   }
  },
  {
   "cell_type":"code",
   "source":[
    "x.var() #Variance"
   ],
   "execution_count":208,
   "outputs":[
    {
     "data":{
      "text\/plain":[
       "49555.42579830474"
      ]
     },
     "metadata":{
      
     },
     "output_type":"display_data"
    }
   ],
   "metadata":{
    "datalore":{
     "type":"CODE",
     "hide_input_from_viewers":false,
     "hide_output_from_viewers":false
    }
   }
  },
  {
   "cell_type":"code",
   "source":[
    "x.mode()"
   ],
   "execution_count":209,
   "outputs":[
    {
     "data":{
      "text\/html":[
       
      ]
     },
     "metadata":{
      
     },
     "output_type":"display_data"
    }
   ],
   "metadata":{
    "datalore":{
     "type":"CODE",
     "hide_input_from_viewers":false,
     "hide_output_from_viewers":false
    }
   }
  },
  {
   "cell_type":"markdown",
   "source":[
    "**total plate appearances in Triple-A and lower levels**"
   ],
   "attachments":{
    
   },
   "metadata":{
    "datalore":{
     "type":"MD",
     "hide_input_from_viewers":false,
     "hide_output_from_viewers":false
    }
   }
  },
  {
   "cell_type":"code",
   "source":[
    "y=df['Total plate appearances in Triple-A and lower levels']"
   ],
   "execution_count":22,
   "outputs":[
    
   ],
   "metadata":{
    "datalore":{
     "type":"CODE",
     "hide_input_from_viewers":false,
     "hide_output_from_viewers":false
    }
   }
  },
  {
   "cell_type":"code",
   "source":[
    "y.mean()"
   ],
   "execution_count":229,
   "outputs":[
    {
     "data":{
      "text\/plain":[
       "998.5554851986702"
      ]
     },
     "metadata":{
      
     },
     "output_type":"display_data"
    }
   ],
   "metadata":{
    "datalore":{
     "type":"CODE",
     "hide_input_from_viewers":false,
     "hide_output_from_viewers":false
    }
   }
  },
  {
   "cell_type":"code",
   "source":[
    "y.max()-y.min() #range "
   ],
   "execution_count":230,
   "outputs":[
    {
     "data":{
      "text\/plain":[
       "5516"
      ]
     },
     "metadata":{
      
     },
     "output_type":"display_data"
    }
   ],
   "metadata":{
    "datalore":{
     "type":"CODE",
     "hide_input_from_viewers":false,
     "hide_output_from_viewers":false
    }
   }
  },
  {
   "cell_type":"code",
   "source":[
    "quantile = np.array([0,0.25,0.5,0.75,1.0])\n",
    "quantile\n",
    "np.quantile(y,quantile) #Min\/25%\/50%\/75%\/Max"
   ],
   "execution_count":231,
   "outputs":[
    {
     "data":{
      "text\/html":[
       
      ]
     },
     "metadata":{
      
     },
     "output_type":"display_data"
    }
   ],
   "metadata":{
    "datalore":{
     "type":"CODE",
     "hide_input_from_viewers":false,
     "hide_output_from_viewers":false
    }
   }
  },
  {
   "cell_type":"code",
   "source":[
    "y.std() #standard deviation"
   ],
   "execution_count":232,
   "outputs":[
    {
     "data":{
      "text\/plain":[
       "889.7460786740799"
      ]
     },
     "metadata":{
      
     },
     "output_type":"display_data"
    }
   ],
   "metadata":{
    "datalore":{
     "type":"CODE",
     "hide_input_from_viewers":false,
     "hide_output_from_viewers":false
    }
   }
  },
  {
   "cell_type":"code",
   "source":[
    "y.var() #variance"
   ],
   "execution_count":233,
   "outputs":[
    {
     "data":{
      "text\/plain":[
       "791648.084515902"
      ]
     },
     "metadata":{
      
     },
     "output_type":"display_data"
    }
   ],
   "metadata":{
    "datalore":{
     "type":"CODE",
     "hide_input_from_viewers":false,
     "hide_output_from_viewers":false
    }
   }
  },
  {
   "cell_type":"code",
   "source":[
    "y.mode()"
   ],
   "execution_count":23,
   "outputs":[
    {
     "data":{
      "text\/html":[
       
      ]
     },
     "metadata":{
      
     },
     "output_type":"display_data"
    }
   ],
   "metadata":{
    "datalore":{
     "type":"CODE",
     "hide_input_from_viewers":false,
     "hide_output_from_viewers":false
    }
   }
  },
  {
   "cell_type":"markdown",
   "source":[
    "## **GRAPHS AND RELATIONSHIPS BETWEEN VARIABLES:**"
   ],
   "attachments":{
    
   },
   "metadata":{
    "datalore":{
     "type":"MD",
     "hide_input_from_viewers":false,
     "hide_output_from_viewers":false
    }
   }
  },
  {
   "cell_type":"markdown",
   "source":[
    "**relation between plate appearances and games played:**"
   ],
   "attachments":{
    
   },
   "metadata":{
    "datalore":{
     "type":"MD",
     "hide_input_from_viewers":false,
     "hide_output_from_viewers":false
    }
   }
  },
  {
   "cell_type":"code",
   "source":[
    "import matplotlib.pyplot as plt\n",
    "import numpy as np"
   ],
   "execution_count":217,
   "outputs":[
    
   ],
   "metadata":{
    "datalore":{
     "type":"CODE",
     "hide_input_from_viewers":false,
     "hide_output_from_viewers":false
    }
   }
  },
  {
   "cell_type":"code",
   "source":[
    "y=df['Total plate appearances in Triple-A and lower levels']\n",
    "x=df['Total number of games played in the minor leagues']\n",
    "plt.scatter(x,y)\n",
    "plt.title(\"relation between plate appearances and games played\")\n",
    "plt.show()\n"
   ],
   "execution_count":25,
   "outputs":[
    {
     "data":{
      "image\/png":"[encoded data removed]"
     },
     "metadata":{
      "image\/png":{
       
      }
     },
     "output_type":"display_data"
    }
   ],
   "metadata":{
    "datalore":{
     "type":"CODE",
     "hide_input_from_viewers":false,
     "hide_output_from_viewers":false
    }
   }
  },
  {
   "cell_type":"code",
   "source":[
    "r= np.corrcoef(x,y)\n",
    "r"
   ],
   "execution_count":26,
   "outputs":[
    {
     "data":{
      "text\/html":[
       
      ]
     },
     "metadata":{
      
     },
     "output_type":"display_data"
    }
   ],
   "metadata":{
    "datalore":{
     "type":"CODE",
     "hide_input_from_viewers":false,
     "hide_output_from_viewers":false
    }
   }
  },
  {
   "cell_type":"markdown",
   "source":[
    "As seen in the graph above, there is a strong positive correlation between the total games played and total plate appearances. This is explained since each time you play a game you get more practice. therefore, this makes sense that the players get better when they play more games. This means that their plate appearances get better which explain the strong corrolation between both variables.  "
   ],
   "attachments":{
    
   },
   "metadata":{
    "datalore":{
     "type":"MD",
     "hide_input_from_viewers":false,
     "hide_output_from_viewers":false
    }
   }
  },
  {
   "cell_type":"markdown",
   "source":[
    "**Education level vs Total games played in triple A games:**"
   ],
   "attachments":{
    
   },
   "metadata":{
    "datalore":{
     "type":"MD",
     "hide_input_from_viewers":false,
     "hide_output_from_viewers":false
    }
   }
  },
  {
   "cell_type":"markdown",
   "source":[
    "As seen in the data, there are different levels of games in the minor league. The highest and most professional level is the Triple-A level. Therefore, using this variable as an indication of whether the players are successful or not. However, the data does not show the number of games played in this level for each player. Instead, the cumulative number of games played in each level (added to the levels below) is shown.\n",
    "\n",
    "We must first create the variable \"Total triple A games played\", by subtracting \"Total games played in Triple-A and lower levels\\t\" and \"Total games played in Double-A and lower levels\\t\""
   ],
   "attachments":{
    
   },
   "metadata":{
    "datalore":{
     "type":"MD",
     "hide_input_from_viewers":false,
     "hide_output_from_viewers":false
    }
   }
  },
  {
   "cell_type":"code",
   "source":[
    "df2= df.assign(TotaltripleAgamesplayed = df['Total games played in Triple-A and lower levels\\t']-df['Total games played in Double-A and lower levels\\t'])\n",
    "df2 #we have now created a dataset with a new column"
   ],
   "execution_count":16,
   "outputs":[
    {
     "data":{
      "text\/html":[
       "<div>\n",
       "<style scoped>\n",
       "    .dataframe tbody tr th:only-of-type {\n",
       "        vertical-align: middle;\n",
       "    }\n",
       "\n",
       "    .dataframe tbody tr th {\n",
       "        vertical-align: top;\n",
       "    }\n",
       "\n",
       "    .dataframe thead th {\n",
       "        text-align: right;\n",
       "    }\n",
       "<\/style>\n",
       "<table border=\"1\" class=\"dataframe\">\n",
       "  <thead>\n",
       "    <tr style=\"text-align: right;\">\n",
       "      <th><\/th>\n",
       "      <th>Year when drafted<\/th>\n",
       "      <th>Round drafted<\/th>\n",
       "      <th>Overall pick<\/th>\n",
       "      <th>Name<\/th>\n",
       "      <th>Position<\/th>\n",
       "      <th>Organization<\/th>\n",
       "      <th>school<\/th>\n",
       "      <th>age when drafted<\/th>\n",
       "      <th>Birth date<\/th>\n",
       "      <th>Bats<\/th>\n",
       "      <th>...<\/th>\n",
       "      <th>Total games played in Low-A and lower levels<\/th>\n",
       "      <th>Total plate appearances in Low-A and lower levels<\/th>\n",
       "      <th>Total games played in High-A and lower levels<\/th>\n",
       "      <th>Total plate appearances in High-A and lower levels<\/th>\n",
       "      <th>Total games played in Double-A and lower levels\\t<\/th>\n",
       "      <th>Total plate appearances in Double-A and lower levels<\/th>\n",
       "      <th>Total games played in Triple-A and lower levels\\t<\/th>\n",
       "      <th>Total plate appearances in Triple-A and lower levels<\/th>\n",
       "      <th>Average plate appearances per game<\/th>\n",
       "      <th>TotaltripleAgamesplayed<\/th>\n",
       "    <\/tr>\n",
       "  <\/thead>\n",
       "  <tbody>\n",
       "    <tr>\n",
       "      <th>0<\/th>\n",
       "      <td>1997<\/td>\n",
       "      <td>16<\/td>\n",
       "      <td>475<\/td>\n",
       "      <td>Alex Steele<\/td>\n",
       "      <td>Outfield<\/td>\n",
       "      <td>Tigers<\/td>\n",
       "      <td>SUNY-Cortland<\/td>\n",
       "      <td>22<\/td>\n",
       "      <td>12\/09\/75<\/td>\n",
       "      <td>Right<\/td>\n",
       "      <td>...<\/td>\n",
       "      <td>95<\/td>\n",
       "      <td>780<\/td>\n",
       "      <td>200<\/td>\n",
       "      <td>1161<\/td>\n",
       "      <td>200<\/td>\n",
       "      <td>1161<\/td>\n",
       "      <td>200<\/td>\n",
       "      <td>1161<\/td>\n",
       "      <td>5.81<\/td>\n",
       "      <td>0<\/td>\n",
       "    <\/tr>\n",
       "    <tr>\n",
       "      <th>1<\/th>\n",
       "      <td>1996<\/td>\n",
       "      <td>5<\/td>\n",
       "      <td>133<\/td>\n",
       "      <td>Philp Kendall<\/td>\n",
       "      <td>Catcher<\/td>\n",
       "      <td>Brewers<\/td>\n",
       "      <td>Jasper HS (IN)<\/td>\n",
       "      <td>19<\/td>\n",
       "      <td>08\/22\/77<\/td>\n",
       "      <td>Right<\/td>\n",
       "      <td>...<\/td>\n",
       "      <td>43<\/td>\n",
       "      <td>229<\/td>\n",
       "      <td>61<\/td>\n",
       "      <td>332<\/td>\n",
       "      <td>61<\/td>\n",
       "      <td>332<\/td>\n",
       "      <td>61<\/td>\n",
       "      <td>332<\/td>\n",
       "      <td>5.44<\/td>\n",
       "      <td>0<\/td>\n",
       "    <\/tr>\n",
       "    <tr>\n",
       "      <th>2<\/th>\n",
       "      <td>1999<\/td>\n",
       "      <td>43<\/td>\n",
       "      <td>1293<\/td>\n",
       "      <td>Nathan Rewers<\/td>\n",
       "      <td>Second Base<\/td>\n",
       "      <td>Reds<\/td>\n",
       "      <td>University of Richmond<\/td>\n",
       "      <td>23<\/td>\n",
       "      <td>11\/30\/76<\/td>\n",
       "      <td>Switch<\/td>\n",
       "      <td>...<\/td>\n",
       "      <td>3<\/td>\n",
       "      <td>16<\/td>\n",
       "      <td>3<\/td>\n",
       "      <td>16<\/td>\n",
       "      <td>3<\/td>\n",
       "      <td>16<\/td>\n",
       "      <td>3<\/td>\n",
       "      <td>16<\/td>\n",
       "      <td>5.33<\/td>\n",
       "      <td>0<\/td>\n",
       "    <\/tr>\n",
       "    <tr>\n",
       "      <th>3<\/th>\n",
       "      <td>2001<\/td>\n",
       "      <td>9<\/td>\n",
       "      <td>267<\/td>\n",
       "      <td>David Mattle<\/td>\n",
       "      <td>Outfield<\/td>\n",
       "      <td>Tigers<\/td>\n",
       "      <td>Kent State University<\/td>\n",
       "      <td>22<\/td>\n",
       "      <td>12\/21\/79<\/td>\n",
       "      <td>Left<\/td>\n",
       "      <td>...<\/td>\n",
       "      <td>176<\/td>\n",
       "      <td>716<\/td>\n",
       "      <td>279<\/td>\n",
       "      <td>1472<\/td>\n",
       "      <td>279<\/td>\n",
       "      <td>1472<\/td>\n",
       "      <td>279<\/td>\n",
       "      <td>1472<\/td>\n",
       "      <td>5.28<\/td>\n",
       "      <td>0<\/td>\n",
       "    <\/tr>\n",
       "    <tr>\n",
       "      <th>4<\/th>\n",
       "      <td>1997<\/td>\n",
       "      <td>1<\/td>\n",
       "      <td>15<\/td>\n",
       "      <td>Jason Dellaero<\/td>\n",
       "      <td>Shortstop<\/td>\n",
       "      <td>White Sox<\/td>\n",
       "      <td>University of South Florida<\/td>\n",
       "      <td>21<\/td>\n",
       "      <td>12\/17\/76<\/td>\n",
       "      <td>Switch<\/td>\n",
       "      <td>...<\/td>\n",
       "      <td>60<\/td>\n",
       "      <td>224<\/td>\n",
       "      <td>235<\/td>\n",
       "      <td>879<\/td>\n",
       "      <td>316<\/td>\n",
       "      <td>1623<\/td>\n",
       "      <td>316<\/td>\n",
       "      <td>1623<\/td>\n",
       "      <td>5.14<\/td>\n",
       "      <td>0<\/td>\n",
       "    <\/tr>\n",
       "    <tr>\n",
       "      <th>...<\/th>\n",
       "      <td>...<\/td>\n",
       "      <td>...<\/td>\n",
       "      <td>...<\/td>\n",
       "      <td>...<\/td>\n",
       "      <td>...<\/td>\n",
       "      <td>...<\/td>\n",
       "      <td>...<\/td>\n",
       "      <td>...<\/td>\n",
       "      <td>...<\/td>\n",
       "      <td>...<\/td>\n",
       "      <td>...<\/td>\n",
       "      <td>...<\/td>\n",
       "      <td>...<\/td>\n",
       "      <td>...<\/td>\n",
       "      <td>...<\/td>\n",
       "      <td>...<\/td>\n",
       "      <td>...<\/td>\n",
       "      <td>...<\/td>\n",
       "      <td>...<\/td>\n",
       "      <td>...<\/td>\n",
       "      <td>...<\/td>\n",
       "    <\/tr>\n",
       "    <tr>\n",
       "      <th>6312<\/th>\n",
       "      <td>1999<\/td>\n",
       "      <td>21<\/td>\n",
       "      <td>651<\/td>\n",
       "      <td>Michael Aldridge<\/td>\n",
       "      <td>Catcher<\/td>\n",
       "      <td>Yankees<\/td>\n",
       "      <td>Eastern Michigan University<\/td>\n",
       "      <td>22<\/td>\n",
       "      <td>03\/17\/77<\/td>\n",
       "      <td>Right<\/td>\n",
       "      <td>...<\/td>\n",
       "      <td>7<\/td>\n",
       "      <td>7<\/td>\n",
       "      <td>7<\/td>\n",
       "      <td>7<\/td>\n",
       "      <td>7<\/td>\n",
       "      <td>7<\/td>\n",
       "      <td>7<\/td>\n",
       "      <td>7<\/td>\n",
       "      <td>1.00<\/td>\n",
       "      <td>0<\/td>\n",
       "    <\/tr>\n",
       "    <tr>\n",
       "      <th>6313<\/th>\n",
       "      <td>2006<\/td>\n",
       "      <td>13<\/td>\n",
       "      <td>390<\/td>\n",
       "      <td>Mikal Garbarino<\/td>\n",
       "      <td>Outfield<\/td>\n",
       "      <td>Blue Jays<\/td>\n",
       "      <td>San Dimas HS, CA<\/td>\n",
       "      <td>18<\/td>\n",
       "      <td>04\/07\/88<\/td>\n",
       "      <td>Switch<\/td>\n",
       "      <td>...<\/td>\n",
       "      <td>1<\/td>\n",
       "      <td>1<\/td>\n",
       "      <td>1<\/td>\n",
       "      <td>1<\/td>\n",
       "      <td>1<\/td>\n",
       "      <td>1<\/td>\n",
       "      <td>1<\/td>\n",
       "      <td>1<\/td>\n",
       "      <td>1.00<\/td>\n",
       "      <td>0<\/td>\n",
       "    <\/tr>\n",
       "    <tr>\n",
       "      <th>6314<\/th>\n",
       "      <td>1996<\/td>\n",
       "      <td>31<\/td>\n",
       "      <td>912<\/td>\n",
       "      <td>Richard Clark<\/td>\n",
       "      <td>Outfield<\/td>\n",
       "      <td>Giants<\/td>\n",
       "      <td>Countryside HS (Clearwater,FL)<\/td>\n",
       "      <td>19<\/td>\n",
       "      <td>11\/01\/77<\/td>\n",
       "      <td>Right<\/td>\n",
       "      <td>...<\/td>\n",
       "      <td>6<\/td>\n",
       "      <td>6<\/td>\n",
       "      <td>6<\/td>\n",
       "      <td>6<\/td>\n",
       "      <td>6<\/td>\n",
       "      <td>6<\/td>\n",
       "      <td>6<\/td>\n",
       "      <td>6<\/td>\n",
       "      <td>1.00<\/td>\n",
       "      <td>0<\/td>\n",
       "    <\/tr>\n",
       "    <tr>\n",
       "      <th>6315<\/th>\n",
       "      <td>2001<\/td>\n",
       "      <td>32<\/td>\n",
       "      <td>956<\/td>\n",
       "      <td>Billy Jacobson<\/td>\n",
       "      <td>Outfield<\/td>\n",
       "      <td>Astros<\/td>\n",
       "      <td>Rice University<\/td>\n",
       "      <td>23<\/td>\n",
       "      <td>12\/16\/78<\/td>\n",
       "      <td>Right<\/td>\n",
       "      <td>...<\/td>\n",
       "      <td>26<\/td>\n",
       "      <td>25<\/td>\n",
       "      <td>26<\/td>\n",
       "      <td>25<\/td>\n",
       "      <td>26<\/td>\n",
       "      <td>25<\/td>\n",
       "      <td>26<\/td>\n",
       "      <td>25<\/td>\n",
       "      <td>0.96<\/td>\n",
       "      <td>0<\/td>\n",
       "    <\/tr>\n",
       "    <tr>\n",
       "      <th>6316<\/th>\n",
       "      <td>1998<\/td>\n",
       "      <td>40<\/td>\n",
       "      <td>1199<\/td>\n",
       "      <td>Michael Baetzel<\/td>\n",
       "      <td>Shortstop<\/td>\n",
       "      <td>White Sox<\/td>\n",
       "      <td>Kishwaukee College<\/td>\n",
       "      <td>19<\/td>\n",
       "      <td>10\/01\/79<\/td>\n",
       "      <td>Switch<\/td>\n",
       "      <td>...<\/td>\n",
       "      <td>15<\/td>\n",
       "      <td>13<\/td>\n",
       "      <td>15<\/td>\n",
       "      <td>13<\/td>\n",
       "      <td>15<\/td>\n",
       "      <td>13<\/td>\n",
       "      <td>15<\/td>\n",
       "      <td>13<\/td>\n",
       "      <td>0.87<\/td>\n",
       "      <td>0<\/td>\n",
       "    <\/tr>\n",
       "  <\/tbody>\n",
       "<\/table>\n",
       "<p>6317 rows × 48 columns<\/p>\n",
       "<\/div>"
      ]
     },
     "metadata":{
      
     },
     "output_type":"display_data"
    }
   ],
   "metadata":{
    "datalore":{
     "type":"CODE",
     "hide_input_from_viewers":false,
     "hide_output_from_viewers":false
    }
   }
  },
  {
   "cell_type":"code",
   "source":[
    "ed= df2['education type']\n",
    "ta= df2['TotaltripleAgamesplayed']\n",
    "plt.scatter(ed, ta, color ='maroon',s=40)\n",
    " \n",
    "plt.xlabel(\"Education type\")\n",
    "plt.ylabel(\"No. of triple A games\")\n",
    "plt.title(\"Relationship between the education level and the number of games played in triple A level\")\n",
    "plt.show()"
   ],
   "execution_count":45,
   "outputs":[
    {
     "data":{
      "image\/png":"[encoded data removed]"
     },
     "metadata":{
      "image\/png":{
       
      }
     },
     "output_type":"display_data"
    }
   ],
   "metadata":{
    "datalore":{
     "type":"CODE",
     "hide_input_from_viewers":false,
     "hide_output_from_viewers":false
    }
   }
  },
  {
   "cell_type":"markdown",
   "source":[
    "firstly, instead of creating a bar chart, a point\/scatter plot was created. This is to have a better representation of the data, as each player is represented by one point in the above chart. In a bar chart, only the player with the maximum number of games played would be shown.\n",
    "\n",
    "It can be seen that the number of games played by players increases when their education level increases. As stated before, the data consists of mostly college players, some high school players, and a negligible number of players with no education. This means that because college players are more abundant, then there is a higher chance that a player from this category would be more successful and play more games in the triple A levels.\n",
    "\n",
    "An outlier is observed in the high school education type, which if not noticed would lead to a misinterpretation (That high school players play more games in the triple A level than college players)\n",
    "\n",
    "we can see that in each category the dots are more condensed at the bottom. This means that it is more common for players to play a smaller number of games in the triple A levels."
   ],
   "attachments":{
    
   },
   "metadata":{
    "datalore":{
     "type":"MD",
     "hide_input_from_viewers":false,
     "hide_output_from_viewers":false
    }
   }
  },
  {
   "cell_type":"markdown",
   "source":[
    "**Total Triple A Games Played vs Position**"
   ],
   "attachments":{
    
   },
   "metadata":{
    "datalore":{
     "type":"MD",
     "hide_input_from_viewers":false,
     "hide_output_from_viewers":false
    }
   }
  },
  {
   "cell_type":"code",
   "source":[
    "position= df2['Position']\n",
    "ta= df2['TotaltripleAgamesplayed']\n",
    "plt.bar(position, ta)\n",
    " \n",
    "plt.xlabel(\"Position\")\n",
    "plt.ylabel(\"No. of Triple A Games\")\n",
    "plt.title(\"Relationship Between Position and Number of Games Played in Triple A Level\")\n",
    "plt.show()"
   ],
   "execution_count":61,
   "outputs":[
    {
     "data":{
      "image\/png":"[encoded data removed]"
     },
     "metadata":{
      "image\/png":{
       
      }
     },
     "output_type":"display_data"
    }
   ],
   "metadata":{
    "datalore":{
     "type":"CODE",
     "hide_input_from_viewers":false,
     "hide_output_from_viewers":false
    }
   }
  },
  {
   "cell_type":"markdown",
   "source":[
    "Here we can see that the most common position in triple A games was shortstop followed by outfield. Triple A games are very competitive and are a measure of the success of a players career. The shortstop position is also considered the hardest position in the team which explains why they make up most of the players in the triple A league."
   ],
   "attachments":{
    
   },
   "metadata":{
    "datalore":{
     "type":"MD",
     "hide_input_from_viewers":false,
     "hide_output_from_viewers":false
    }
   }
  }
 ],
 "metadata":{
  "datalore":{
   "version":1,
   "computation_mode":"JUPYTER",
   "package_manager":"pip",
   "base_environment":"default",
   "packages":[
    
   ]
  }
 },
 "nbformat":4,
 "nbformat_minor":4
}